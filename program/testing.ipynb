{
 "cells": [
  {
   "cell_type": "markdown",
   "id": "a4c76291",
   "metadata": {},
   "source": [
    "# Test Age and Gender Models on a Custom Image\n",
    "This notebook loads your trained models and predicts age and gender for an image in the `test` folder."
   ]
  },
  {
   "cell_type": "code",
   "execution_count": null,
   "id": "a063ffa2",
   "metadata": {},
   "outputs": [],
   "source": [
    "# Imports and setup\n",
    "import torch\n",
    "import torch.nn as nn\n",
    "from torchvision import transforms\n",
    "from PIL import Image\n",
    "import os\n",
    "import matplotlib.pyplot as plt\n",
    "\n",
    "# Model and image config\n",
    "IMG_SIZE = (128, 128)\n",
    "DEVICE = torch.device('cuda' if torch.cuda.is_available() else 'cpu')\n",
    "MODEL_DIR = 'models'\n",
    "TEST_IMG_DIR = 'test'\n",
    "\n",
    "# List test images\n",
    "test_images = [f for f in os.listdir(TEST_IMG_DIR) if f.lower().endswith(('.jpg','.png','.jpeg'))]\n",
    "print('Test images:', test_images)"
   ]
  },
  {
   "cell_type": "code",
   "execution_count": null,
   "id": "e8d99b29",
   "metadata": {},
   "outputs": [],
   "source": [
    "# Define model class (must match training definition)\n",
    "class BaseCNN(nn.Module):\n",
    "    def __init__(self, output_units=1, task='age'):\n",
    "        super().__init__()\n",
    "        self.features = nn.Sequential(\n",
    "            nn.Conv2d(3, 32, 3, padding=1), nn.ReLU(), nn.MaxPool2d(2), nn.BatchNorm2d(32),\n",
    "            nn.Conv2d(32, 64, 3, padding=1), nn.ReLU(), nn.MaxPool2d(2), nn.BatchNorm2d(64),\n",
    "            nn.Conv2d(64, 128, 3, padding=1), nn.ReLU(), nn.MaxPool2d(2), nn.BatchNorm2d(128),\n",
    "            nn.Flatten()\n",
    "        )\n",
    "        self.classifier = nn.Sequential(\n",
    "            nn.Linear(128*(IMG_SIZE[0]//8)*(IMG_SIZE[1]//8), 128),\n",
    "            nn.ReLU(),\n",
    "            nn.Dropout(0.5),\n",
    "            nn.Linear(128, output_units)\n",
    "        )\n",
    "        self.task = task\n",
    "\n",
    "    def forward(self, x):\n",
    "        x = self.features(x)\n",
    "        x = self.classifier(x)\n",
    "        if self.task=='gender':\n",
    "            x = torch.sigmoid(x)\n",
    "        return x"
   ]
  },
  {
   "cell_type": "code",
   "execution_count": null,
   "id": "ea634dd6",
   "metadata": {},
   "outputs": [],
   "source": [
    "# Load models\n",
    "age_model = BaseCNN(output_units=1, task='age')\n",
    "gender_model = BaseCNN(output_units=1, task='gender')\n",
    "\n",
    "age_model.load_state_dict(torch.load(os.path.join(MODEL_DIR, 'age_model.pth'), map_location=DEVICE))\n",
    "gender_model.load_state_dict(torch.load(os.path.join(MODEL_DIR, 'gender_model.pth'), map_location=DEVICE))\n",
    "\n",
    "age_model.eval(); age_model.to(DEVICE)\n",
    "gender_model.eval(); gender_model.to(DEVICE)"
   ]
  },
  {
   "cell_type": "code",
   "execution_count": null,
   "id": "84e12a43",
   "metadata": {},
   "outputs": [],
   "source": [
    "# Define transforms (should match validation/test transforms used in training)\n",
    "test_transform = transforms.Compose([\n",
    "    transforms.Resize(IMG_SIZE),\n",
    "    transforms.ToTensor()\n",
    "])\n",
    "\n",
    "# Gender label mapping (edit if needed)\n",
    "gender_map = {0: 'Male', 1: 'Female'}"
   ]
  },
  {
   "cell_type": "code",
   "execution_count": null,
   "id": "1592fc2c",
   "metadata": {},
   "outputs": [],
   "source": [
    "# Predict on all test images\n",
    "for fname in test_images:\n",
    "    img_path = os.path.join(TEST_IMG_DIR, fname)\n",
    "    img = Image.open(img_path).convert('RGB')\n",
    "    img_tensor = test_transform(img).unsqueeze(0).to(DEVICE)  # shape (1,3,H,W)\n",
    "\n",
    "    # Age prediction\n",
    "    with torch.no_grad():\n",
    "        age_pred = age_model(img_tensor).item()\n",
    "\n",
    "    # Gender prediction\n",
    "    with torch.no_grad():\n",
    "        gender_pred = gender_model(img_tensor).item()\n",
    "        gender_label = gender_map[int(round(gender_pred))]\n",
    "\n",
    "    # Show result\n",
    "    plt.imshow(img)\n",
    "    plt.axis('off')\n",
    "    plt.title(f'Predicted Age: {age_pred:.1f}\\nPredicted Gender: {gender_label}')\n",
    "    plt.show()"
   ]
  }
 ],
 "metadata": {
  "kernelspec": {
   "display_name": "env",
   "language": "python",
   "name": "python3"
  },
  "language_info": {
   "codemirror_mode": {
    "name": "ipython",
    "version": 3
   },
   "file_extension": ".py",
   "mimetype": "text/x-python",
   "name": "python",
   "nbconvert_exporter": "python",
   "pygments_lexer": "ipython3",
   "version": "3.11.0"
  }
 },
 "nbformat": 4,
 "nbformat_minor": 5
}
